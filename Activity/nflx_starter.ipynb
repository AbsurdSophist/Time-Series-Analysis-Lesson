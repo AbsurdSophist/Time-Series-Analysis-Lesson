{
 "cells": [
  {
   "cell_type": "code",
   "execution_count": null,
   "id": "37343bec-cde1-415c-b960-ec4ef9f84bdd",
   "metadata": {},
   "outputs": [],
   "source": [
    "# Initial Imports\n",
    "import pandas as pd\n",
    "from pathlib import Path\n",
    "import hvplot.pandas\n",
    "%matplotlib inline\n",
    "\n",
    "import warnings\n",
    "warnings.filterwarnings('ignore')"
   ]
  },
  {
   "cell_type": "markdown",
   "id": "c3bf8948-ad15-4f84-98ac-c9d0b6d43d12",
   "metadata": {},
   "source": [
    "# Netflix Subscriber Data"
   ]
  },
  {
   "cell_type": "code",
   "execution_count": null,
   "id": "dc2796fd-1644-42e9-8501-b241bd2c9ba4",
   "metadata": {},
   "outputs": [],
   "source": [
    "# Read NFLX_sub.csv into Pandas DataFrame\n",
    "subs_df = \n",
    "\n",
    "# View first five rows of subs_df\n"
   ]
  },
  {
   "cell_type": "code",
   "execution_count": null,
   "id": "a149d780-32fd-4272-ab03-9c8cc7564b67",
   "metadata": {},
   "outputs": [],
   "source": [
    "# Drop 'Area' column and rename 'Years' to 'Date'\n",
    "subs_df = \n",
    "\n",
    "# Rename the 'Years' column to 'Date' \n",
    "subs_df = \n",
    "\n",
    "# View first five rows of subs_df\n",
    "subs_df.head()"
   ]
  },
  {
   "cell_type": "code",
   "execution_count": null,
   "id": "ebc5cc32-5d2e-43d0-b617-bb7155b7a6bf",
   "metadata": {},
   "outputs": [],
   "source": [
    "# Check datatypes\n"
   ]
  },
  {
   "cell_type": "code",
   "execution_count": null,
   "id": "1ddf1e87-51df-44fe-8953-7639bbad76b2",
   "metadata": {},
   "outputs": [],
   "source": [
    "# Convert 'Date' into datetime object\n",
    "subs_df['Date'] = pd.to_datetime(\n",
    "    subs_df['Date'].str.replace(r'(Q\\d) - (\\d+)', r'\\2-\\1'))\n",
    "\n",
    "subs_df.dtypes"
   ]
  },
  {
   "cell_type": "code",
   "execution_count": 1,
   "id": "e5ac977a-d959-4152-9233-ac8d2239910a",
   "metadata": {},
   "outputs": [],
   "source": [
    "# Set 'Date' as index\n",
    "subs_df = "
   ]
  },
  {
   "cell_type": "code",
   "execution_count": null,
   "id": "2674fee0-03b3-4d73-b5af-084d521c4505",
   "metadata": {},
   "outputs": [],
   "source": [
    "# Find the sum of all subscribers by year using the groupby function\n",
    "yearly_subs = \n",
    "\n",
    "#Plot results (Hint: set the parameter yformatter = '%.0f' to avoid scientific notation)\n"
   ]
  },
  {
   "cell_type": "markdown",
   "id": "dcfa4e9a-6487-4577-9489-d4d2ec110db9",
   "metadata": {},
   "source": [
    "## Stop to Think!\n",
    "What sort of trend did we see from 2018 - 2020? What are some possible reasons for growth and decline? Knowing what we do about 2020, is this graph an accurate representation if we were to forcast future subscriber growth?"
   ]
  },
  {
   "cell_type": "markdown",
   "id": "6057226b-9ed4-4449-b2cd-406c430976b9",
   "metadata": {},
   "source": [
    "# Netflix Closing Price"
   ]
  },
  {
   "cell_type": "code",
   "execution_count": null,
   "id": "f1fe4d0e-7034-4747-87f9-1313b0d73552",
   "metadata": {},
   "outputs": [],
   "source": [
    "# Read NFLX_stock.csv into Pandas DataFrame and set the index column as 'Date'\n",
    "close_df = \n",
    "\n",
    "# Display the first five rows of close_df\n",
    "close_df.head()"
   ]
  },
  {
   "cell_type": "code",
   "execution_count": null,
   "id": "38a5570b-3910-4c45-acde-5ba2ee1af21a",
   "metadata": {},
   "outputs": [],
   "source": [
    "# Use loc function to only read 'Close' time series data\n",
    "close_df = \n",
    "\n",
    "# Display top 5 rows\n"
   ]
  },
  {
   "cell_type": "code",
   "execution_count": null,
   "id": "bfaa97c0-a9f5-4ce0-8945-1fadf3ec1db4",
   "metadata": {},
   "outputs": [],
   "source": [
    "# Convert from Series to DataFrame\n",
    "close_df = close_df.to_frame()\n",
    "\n",
    "# Display top 5 rows\n",
    "close_df.head()"
   ]
  },
  {
   "cell_type": "code",
   "execution_count": 2,
   "id": "9fce588b-2fe1-47c9-8846-9e9056de5d99",
   "metadata": {},
   "outputs": [],
   "source": [
    "# Use hvplot and the loc function to show closing prices in 2019\n"
   ]
  },
  {
   "cell_type": "markdown",
   "id": "03162892-e866-4544-9d66-62ba50d1ee9e",
   "metadata": {},
   "source": [
    "## Stop to think!\n",
    "If subscriber count was growing in 2019, but dropped in 2020, is the trend we are seeing in our closing price data expected? DisneyPlus became available on November 2019, could that have affected stock price?"
   ]
  },
  {
   "cell_type": "code",
   "execution_count": null,
   "id": "181f299a-c503-4a4c-af1c-11bce6fa6eca",
   "metadata": {},
   "outputs": [],
   "source": [
    "# Concat close_df and subs_df\n",
    "nflx_df = \n",
    "\n",
    "# Find the average closing price and number of subscribers group by year and quarter\n",
    "qtrly_nflx = \n",
    "\n",
    "# View first five rows of qtrly_nflx\n",
    "qtrly_nflx.head()"
   ]
  },
  {
   "cell_type": "code",
   "execution_count": null,
   "id": "caca9aba-d448-488d-8bf2-4b964569d7af",
   "metadata": {},
   "outputs": [],
   "source": [
    "# Flatten multiIndex and rename 'Date' column as 'Quarter\n",
    "qtrly_nflx.reset_index(level = 1, inplace = True)\n",
    "qtrly_nflx = qtrly_nflx.rename(columns = {'Date' : 'Quarter'})\n",
    "\n",
    "# Display last five rows of qtrly_nflx\n",
    "qtrly_nflx.tail()"
   ]
  },
  {
   "cell_type": "code",
   "execution_count": null,
   "id": "647ef020-6800-48e1-b9d0-6c56d7312754",
   "metadata": {},
   "outputs": [],
   "source": [
    "# Create column for Daily Returns and use the pct_change function to calculate\n"
   ]
  },
  {
   "cell_type": "code",
   "execution_count": null,
   "id": "d588d955-aa26-4022-83ec-9f4046eb0cd2",
   "metadata": {},
   "outputs": [],
   "source": [
    "# Using Pandas corr function, look for any correlations between average closing prices and number of subscribers"
   ]
  }
 ],
 "metadata": {
  "kernelspec": {
   "display_name": "Python 3 (ipykernel)",
   "language": "python",
   "name": "python3"
  },
  "language_info": {
   "codemirror_mode": {
    "name": "ipython",
    "version": 3
   },
   "file_extension": ".py",
   "mimetype": "text/x-python",
   "name": "python",
   "nbconvert_exporter": "python",
   "pygments_lexer": "ipython3",
   "version": "3.7.11"
  }
 },
 "nbformat": 4,
 "nbformat_minor": 5
}
