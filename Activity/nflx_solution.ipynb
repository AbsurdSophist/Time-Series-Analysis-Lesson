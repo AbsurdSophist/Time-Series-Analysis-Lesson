{
 "cells": [
  {
   "cell_type": "code",
   "execution_count": 33,
   "id": "58b9834e-ba0f-4cf9-8d01-5a7416cf1eaa",
   "metadata": {},
   "outputs": [],
   "source": [
    "# Initial Imports\n",
    "import pandas as pd\n",
    "from pathlib import Path\n",
    "import hvplot.pandas\n",
    "%matplotlib inline\n",
    "\n",
    "import warnings\n",
    "warnings.filterwarnings('ignore')"
   ]
  },
  {
   "cell_type": "markdown",
   "id": "26b28b92-8410-43ab-a4fb-30be15d1b1ad",
   "metadata": {},
   "source": [
    "# Netflix Subscriber Data"
   ]
  },
  {
   "cell_type": "code",
   "execution_count": null,
   "id": "fd772376-80c2-47ec-b43b-4c611367ad43",
   "metadata": {},
   "outputs": [
    {
     "data": {
      "text/html": [
       "<div>\n",
       "<style scoped>\n",
       "    .dataframe tbody tr th:only-of-type {\n",
       "        vertical-align: middle;\n",
       "    }\n",
       "\n",
       "    .dataframe tbody tr th {\n",
       "        vertical-align: top;\n",
       "    }\n",
       "\n",
       "    .dataframe thead th {\n",
       "        text-align: right;\n",
       "    }\n",
       "</style>\n",
       "<table border=\"1\" class=\"dataframe\">\n",
       "  <thead>\n",
       "    <tr style=\"text-align: right;\">\n",
       "      <th></th>\n",
       "      <th>Area</th>\n",
       "      <th>Years</th>\n",
       "      <th>Subscribers</th>\n",
       "    </tr>\n",
       "  </thead>\n",
       "  <tbody>\n",
       "    <tr>\n",
       "      <th>0</th>\n",
       "      <td>United States and Canada</td>\n",
       "      <td>Q1 - 2018</td>\n",
       "      <td>60909000</td>\n",
       "    </tr>\n",
       "    <tr>\n",
       "      <th>1</th>\n",
       "      <td>Europe,  Middle East and Africa</td>\n",
       "      <td>Q1 - 2018</td>\n",
       "      <td>29339000</td>\n",
       "    </tr>\n",
       "    <tr>\n",
       "      <th>2</th>\n",
       "      <td>Latin America</td>\n",
       "      <td>Q1 - 2018</td>\n",
       "      <td>21260000</td>\n",
       "    </tr>\n",
       "    <tr>\n",
       "      <th>3</th>\n",
       "      <td>Asia-Pacific</td>\n",
       "      <td>Q1 - 2018</td>\n",
       "      <td>7394000</td>\n",
       "    </tr>\n",
       "    <tr>\n",
       "      <th>4</th>\n",
       "      <td>United States and Canada</td>\n",
       "      <td>Q2 - 2018</td>\n",
       "      <td>61870000</td>\n",
       "    </tr>\n",
       "  </tbody>\n",
       "</table>\n",
       "</div>"
      ],
      "text/plain": [
       "                              Area      Years  Subscribers\n",
       "0         United States and Canada  Q1 - 2018     60909000\n",
       "1  Europe,  Middle East and Africa  Q1 - 2018     29339000\n",
       "2                    Latin America  Q1 - 2018     21260000\n",
       "3                     Asia-Pacific  Q1 - 2018      7394000\n",
       "4         United States and Canada  Q2 - 2018     61870000"
      ]
     },
     "execution_count": 34,
     "metadata": {},
     "output_type": "execute_result"
    }
   ],
   "source": [
    "# Read NFLX_sub.csv into Pandas DataFrame\n",
    "subs_df = pd.read_csv(Path('Resources/NFLX_sub.csv'))\n",
    "\n",
    "# View first five rows of subs_df\n",
    "subs_df.head()"
   ]
  },
  {
   "cell_type": "code",
   "execution_count": 35,
   "id": "90a8a5fb-3c40-4907-b5e4-5bc8ff585d35",
   "metadata": {},
   "outputs": [
    {
     "data": {
      "text/html": [
       "<div>\n",
       "<style scoped>\n",
       "    .dataframe tbody tr th:only-of-type {\n",
       "        vertical-align: middle;\n",
       "    }\n",
       "\n",
       "    .dataframe tbody tr th {\n",
       "        vertical-align: top;\n",
       "    }\n",
       "\n",
       "    .dataframe thead th {\n",
       "        text-align: right;\n",
       "    }\n",
       "</style>\n",
       "<table border=\"1\" class=\"dataframe\">\n",
       "  <thead>\n",
       "    <tr style=\"text-align: right;\">\n",
       "      <th></th>\n",
       "      <th>Date</th>\n",
       "      <th>Subscribers</th>\n",
       "    </tr>\n",
       "  </thead>\n",
       "  <tbody>\n",
       "    <tr>\n",
       "      <th>0</th>\n",
       "      <td>Q1 - 2018</td>\n",
       "      <td>60909000</td>\n",
       "    </tr>\n",
       "    <tr>\n",
       "      <th>1</th>\n",
       "      <td>Q1 - 2018</td>\n",
       "      <td>29339000</td>\n",
       "    </tr>\n",
       "    <tr>\n",
       "      <th>2</th>\n",
       "      <td>Q1 - 2018</td>\n",
       "      <td>21260000</td>\n",
       "    </tr>\n",
       "    <tr>\n",
       "      <th>3</th>\n",
       "      <td>Q1 - 2018</td>\n",
       "      <td>7394000</td>\n",
       "    </tr>\n",
       "    <tr>\n",
       "      <th>4</th>\n",
       "      <td>Q2 - 2018</td>\n",
       "      <td>61870000</td>\n",
       "    </tr>\n",
       "  </tbody>\n",
       "</table>\n",
       "</div>"
      ],
      "text/plain": [
       "        Date  Subscribers\n",
       "0  Q1 - 2018     60909000\n",
       "1  Q1 - 2018     29339000\n",
       "2  Q1 - 2018     21260000\n",
       "3  Q1 - 2018      7394000\n",
       "4  Q2 - 2018     61870000"
      ]
     },
     "execution_count": 35,
     "metadata": {},
     "output_type": "execute_result"
    }
   ],
   "source": [
    "# Drop 'Area' column and rename 'Years' to 'Date'\n",
    "subs_df = subs_df.drop(columns = 'Area')\n",
    "subs_df = subs_df.rename(columns = {'Years' : 'Date'})\n",
    "subs_df.head()"
   ]
  },
  {
   "cell_type": "code",
   "execution_count": 36,
   "id": "52c07630-16fd-4b4b-a0db-bd2ad46b42ed",
   "metadata": {},
   "outputs": [
    {
     "data": {
      "text/plain": [
       "Date           object\n",
       "Subscribers     int64\n",
       "dtype: object"
      ]
     },
     "execution_count": 36,
     "metadata": {},
     "output_type": "execute_result"
    }
   ],
   "source": [
    "# Check datatypes\n",
    "subs_df.dtypes"
   ]
  },
  {
   "cell_type": "code",
   "execution_count": 37,
   "id": "829fd955-3035-4401-922b-bbbaa11982fa",
   "metadata": {},
   "outputs": [
    {
     "data": {
      "text/plain": [
       "Date           datetime64[ns]\n",
       "Subscribers             int64\n",
       "dtype: object"
      ]
     },
     "execution_count": 37,
     "metadata": {},
     "output_type": "execute_result"
    }
   ],
   "source": [
    "# Convert 'Date' into datetime object\n",
    "subs_df['Date'] = pd.to_datetime(\n",
    "    subs_df['Date'].str.replace(r'(Q\\d) - (\\d+)', r'\\2-\\1'))\n",
    "\n",
    "subs_df.dtypes"
   ]
  },
  {
   "cell_type": "code",
   "execution_count": 38,
   "id": "51f2b605-c310-48a4-88c4-0df55a2160c5",
   "metadata": {},
   "outputs": [],
   "source": [
    "# Set 'Date' as index\n",
    "subs_df = subs_df.set_index('Date')"
   ]
  },
  {
   "cell_type": "code",
   "execution_count": 48,
   "id": "475f04ff-446a-4334-a9b6-52fcb6224238",
   "metadata": {},
   "outputs": [
    {
     "data": {},
     "metadata": {},
     "output_type": "display_data"
    },
    {
     "data": {
      "application/vnd.holoviews_exec.v0+json": "",
      "text/html": [
       "<div id='2004'>\n",
       "\n",
       "\n",
       "\n",
       "\n",
       "\n",
       "  <div class=\"bk-root\" id=\"fcdd09cf-f19d-4637-a5ab-37e1070dec72\" data-root-id=\"2004\"></div>\n",
       "</div>\n",
       "<script type=\"application/javascript\">(function(root) {\n",
       "  function embed_document(root) {\n",
       "    var docs_json = {\"6938d022-60ce-4886-aaf0-a1ff240166f8\":{\"defs\":[{\"extends\":null,\"module\":null,\"name\":\"ReactiveHTML1\",\"overrides\":[],\"properties\":[]},{\"extends\":null,\"module\":null,\"name\":\"FlexBox1\",\"overrides\":[],\"properties\":[{\"default\":\"flex-start\",\"kind\":null,\"name\":\"align_content\"},{\"default\":\"flex-start\",\"kind\":null,\"name\":\"align_items\"},{\"default\":\"row\",\"kind\":null,\"name\":\"flex_direction\"},{\"default\":\"wrap\",\"kind\":null,\"name\":\"flex_wrap\"},{\"default\":\"flex-start\",\"kind\":null,\"name\":\"justify_content\"}]},{\"extends\":null,\"module\":null,\"name\":\"TemplateActions1\",\"overrides\":[],\"properties\":[{\"default\":0,\"kind\":null,\"name\":\"open_modal\"},{\"default\":0,\"kind\":null,\"name\":\"close_modal\"}]},{\"extends\":null,\"module\":null,\"name\":\"MaterialTemplateActions1\",\"overrides\":[],\"properties\":[{\"default\":0,\"kind\":null,\"name\":\"open_modal\"},{\"default\":0,\"kind\":null,\"name\":\"close_modal\"}]}],\"roots\":{\"references\":[{\"attributes\":{},\"id\":\"2050\",\"type\":\"BasicTickFormatter\"},{\"attributes\":{},\"id\":\"2023\",\"type\":\"BasicTicker\"},{\"attributes\":{},\"id\":\"2051\",\"type\":\"AllLabels\"},{\"attributes\":{\"axis\":{\"id\":\"2022\"},\"coordinates\":null,\"dimension\":1,\"grid_line_color\":null,\"group\":null,\"ticker\":null},\"id\":\"2025\",\"type\":\"Grid\"},{\"attributes\":{\"line_alpha\":0.1,\"line_color\":\"#30a2da\",\"line_width\":2,\"x\":{\"field\":\"Date\"},\"y\":{\"field\":\"Subscribers\"}},\"id\":\"2043\",\"type\":\"Line\"},{\"attributes\":{\"line_alpha\":0.2,\"line_color\":\"#30a2da\",\"line_width\":2,\"x\":{\"field\":\"Date\"},\"y\":{\"field\":\"Subscribers\"}},\"id\":\"2044\",\"type\":\"Line\"},{\"attributes\":{\"end\":2020.0,\"reset_end\":2020.0,\"reset_start\":2018.0,\"start\":2018.0,\"tags\":[[[\"Date\",\"Date\",null]]]},\"id\":\"2006\",\"type\":\"Range1d\"},{\"attributes\":{\"data\":{\"Date\":[2018,2019,2020],\"Subscribers\":[512937000,625849000,375803000]},\"selected\":{\"id\":\"2040\"},\"selection_policy\":{\"id\":\"2063\"}},\"id\":\"2039\",\"type\":\"ColumnDataSource\"},{\"attributes\":{\"margin\":[5,5,5,5],\"name\":\"HSpacer02870\",\"sizing_mode\":\"stretch_width\"},\"id\":\"2075\",\"type\":\"Spacer\"},{\"attributes\":{\"tools\":[{\"id\":\"2008\"},{\"id\":\"2026\"},{\"id\":\"2027\"},{\"id\":\"2028\"},{\"id\":\"2029\"},{\"id\":\"2030\"}]},\"id\":\"2032\",\"type\":\"Toolbar\"},{\"attributes\":{\"format\":\"%.0f\"},\"id\":\"2048\",\"type\":\"PrintfTickFormatter\"},{\"attributes\":{\"coordinates\":null,\"group\":null,\"text\":\"Total Netflix Subscribers By Year\",\"text_color\":\"black\",\"text_font_size\":\"12pt\"},\"id\":\"2010\",\"type\":\"Title\"},{\"attributes\":{},\"id\":\"2026\",\"type\":\"SaveTool\"},{\"attributes\":{\"end\":650853600.0,\"reset_end\":650853600.0,\"reset_start\":350798400.0,\"start\":350798400.0,\"tags\":[[[\"Subscribers\",\"Subscribers\",null]]]},\"id\":\"2007\",\"type\":\"Range1d\"},{\"attributes\":{},\"id\":\"2027\",\"type\":\"PanTool\"},{\"attributes\":{},\"id\":\"2040\",\"type\":\"Selection\"},{\"attributes\":{},\"id\":\"2028\",\"type\":\"WheelZoomTool\"},{\"attributes\":{},\"id\":\"2016\",\"type\":\"LinearScale\"},{\"attributes\":{\"overlay\":{\"id\":\"2031\"}},\"id\":\"2029\",\"type\":\"BoxZoomTool\"},{\"attributes\":{},\"id\":\"2063\",\"type\":\"UnionRenderers\"},{\"attributes\":{\"below\":[{\"id\":\"2018\"}],\"center\":[{\"id\":\"2021\"},{\"id\":\"2025\"}],\"height\":300,\"left\":[{\"id\":\"2022\"}],\"margin\":[5,5,5,5],\"min_border_bottom\":10,\"min_border_left\":10,\"min_border_right\":10,\"min_border_top\":10,\"renderers\":[{\"id\":\"2045\"}],\"sizing_mode\":\"fixed\",\"title\":{\"id\":\"2010\"},\"toolbar\":{\"id\":\"2032\"},\"width\":700,\"x_range\":{\"id\":\"2006\"},\"x_scale\":{\"id\":\"2014\"},\"y_range\":{\"id\":\"2007\"},\"y_scale\":{\"id\":\"2016\"}},\"id\":\"2009\",\"subtype\":\"Figure\",\"type\":\"Plot\"},{\"attributes\":{\"coordinates\":null,\"data_source\":{\"id\":\"2039\"},\"glyph\":{\"id\":\"2042\"},\"group\":null,\"hover_glyph\":null,\"muted_glyph\":{\"id\":\"2044\"},\"nonselection_glyph\":{\"id\":\"2043\"},\"selection_glyph\":{\"id\":\"2047\"},\"view\":{\"id\":\"2046\"}},\"id\":\"2045\",\"type\":\"GlyphRenderer\"},{\"attributes\":{\"axis_label\":\"Subscribers\",\"coordinates\":null,\"formatter\":{\"id\":\"2048\"},\"group\":null,\"major_label_policy\":{\"id\":\"2054\"},\"ticker\":{\"id\":\"2023\"}},\"id\":\"2022\",\"type\":\"LinearAxis\"},{\"attributes\":{\"margin\":[5,5,5,5],\"name\":\"HSpacer02869\",\"sizing_mode\":\"stretch_width\"},\"id\":\"2005\",\"type\":\"Spacer\"},{\"attributes\":{\"axis_label\":\"Date\",\"coordinates\":null,\"formatter\":{\"id\":\"2050\"},\"group\":null,\"major_label_policy\":{\"id\":\"2051\"},\"ticker\":{\"id\":\"2019\"}},\"id\":\"2018\",\"type\":\"LinearAxis\"},{\"attributes\":{\"children\":[{\"id\":\"2005\"},{\"id\":\"2009\"},{\"id\":\"2075\"}],\"margin\":[0,0,0,0],\"name\":\"Row02865\",\"tags\":[\"embedded\"]},\"id\":\"2004\",\"type\":\"Row\"},{\"attributes\":{\"line_color\":\"#30a2da\",\"line_width\":2,\"x\":{\"field\":\"Date\"},\"y\":{\"field\":\"Subscribers\"}},\"id\":\"2042\",\"type\":\"Line\"},{\"attributes\":{\"callback\":null,\"renderers\":[{\"id\":\"2045\"}],\"tags\":[\"hv_created\"],\"tooltips\":[[\"Date\",\"@{Date}\"],[\"Subscribers\",\"@{Subscribers}\"]]},\"id\":\"2008\",\"type\":\"HoverTool\"},{\"attributes\":{},\"id\":\"2030\",\"type\":\"ResetTool\"},{\"attributes\":{},\"id\":\"2054\",\"type\":\"AllLabels\"},{\"attributes\":{},\"id\":\"2014\",\"type\":\"LinearScale\"},{\"attributes\":{\"bottom_units\":\"screen\",\"coordinates\":null,\"fill_alpha\":0.5,\"fill_color\":\"lightgrey\",\"group\":null,\"left_units\":\"screen\",\"level\":\"overlay\",\"line_alpha\":1.0,\"line_color\":\"black\",\"line_dash\":[4,4],\"line_width\":2,\"right_units\":\"screen\",\"syncable\":false,\"top_units\":\"screen\"},\"id\":\"2031\",\"type\":\"BoxAnnotation\"},{\"attributes\":{\"line_color\":\"#30a2da\",\"line_width\":2,\"x\":{\"field\":\"Date\"},\"y\":{\"field\":\"Subscribers\"}},\"id\":\"2047\",\"type\":\"Line\"},{\"attributes\":{\"source\":{\"id\":\"2039\"}},\"id\":\"2046\",\"type\":\"CDSView\"},{\"attributes\":{},\"id\":\"2019\",\"type\":\"BasicTicker\"},{\"attributes\":{\"axis\":{\"id\":\"2018\"},\"coordinates\":null,\"grid_line_color\":null,\"group\":null,\"ticker\":null},\"id\":\"2021\",\"type\":\"Grid\"}],\"root_ids\":[\"2004\"]},\"title\":\"Bokeh Application\",\"version\":\"2.4.2\"}};\n",
       "    var render_items = [{\"docid\":\"6938d022-60ce-4886-aaf0-a1ff240166f8\",\"root_ids\":[\"2004\"],\"roots\":{\"2004\":\"fcdd09cf-f19d-4637-a5ab-37e1070dec72\"}}];\n",
       "    root.Bokeh.embed.embed_items_notebook(docs_json, render_items);\n",
       "  }\n",
       "  if (root.Bokeh !== undefined && root.Bokeh.Panel !== undefined) {\n",
       "    embed_document(root);\n",
       "  } else {\n",
       "    var attempts = 0;\n",
       "    var timer = setInterval(function(root) {\n",
       "      if (root.Bokeh !== undefined && root.Bokeh.Panel !== undefined) {\n",
       "        clearInterval(timer);\n",
       "        embed_document(root);\n",
       "      } else if (document.readyState == \"complete\") {\n",
       "        attempts++;\n",
       "        if (attempts > 200) {\n",
       "          clearInterval(timer);\n",
       "          console.log(\"Bokeh: ERROR: Unable to run BokehJS code because BokehJS library is missing\");\n",
       "        }\n",
       "      }\n",
       "    }, 25, root)\n",
       "  }\n",
       "})(window);</script>"
      ],
      "text/plain": [
       ":Curve   [Date]   (Subscribers)"
      ]
     },
     "execution_count": 48,
     "metadata": {
      "application/vnd.holoviews_exec.v0+json": {
       "id": "2004"
      }
     },
     "output_type": "execute_result"
    }
   ],
   "source": [
    "# Find the sum of all subscribers by year using the groupby function\n",
    "yearly_subs = subs_df.groupby(by = [subs_df.index.year]).sum()\n",
    "\n",
    "#Plot results\n",
    "yearly_subs.hvplot(yformatter = '%.0f', title = 'Total Netflix Subscribers By Year')"
   ]
  },
  {
   "cell_type": "markdown",
   "id": "b96b8ee6-f150-4e2b-aab2-16c827066625",
   "metadata": {},
   "source": [
    "## Stop to Think!\n",
    "What sort of trend did we see from 2018 - 2020? What are some possible reasons for growth and decline? Knowing what we do about 2020, is this graph an accurate representation if we were to forcast future subscriber growth?"
   ]
  },
  {
   "cell_type": "markdown",
   "id": "1dabcb98-8dff-4426-87e3-02abb5ee8906",
   "metadata": {},
   "source": [
    "# Netflix Closing Price"
   ]
  },
  {
   "cell_type": "code",
   "execution_count": 43,
   "id": "cab17287-7f8b-4198-b7ea-b53cea33bac5",
   "metadata": {},
   "outputs": [
    {
     "data": {
      "text/html": [
       "<div>\n",
       "<style scoped>\n",
       "    .dataframe tbody tr th:only-of-type {\n",
       "        vertical-align: middle;\n",
       "    }\n",
       "\n",
       "    .dataframe tbody tr th {\n",
       "        vertical-align: top;\n",
       "    }\n",
       "\n",
       "    .dataframe thead th {\n",
       "        text-align: right;\n",
       "    }\n",
       "</style>\n",
       "<table border=\"1\" class=\"dataframe\">\n",
       "  <thead>\n",
       "    <tr style=\"text-align: right;\">\n",
       "      <th></th>\n",
       "      <th>Open</th>\n",
       "      <th>High</th>\n",
       "      <th>Low</th>\n",
       "      <th>Close</th>\n",
       "      <th>Adj Close</th>\n",
       "      <th>Volume</th>\n",
       "    </tr>\n",
       "    <tr>\n",
       "      <th>Date</th>\n",
       "      <th></th>\n",
       "      <th></th>\n",
       "      <th></th>\n",
       "      <th></th>\n",
       "      <th></th>\n",
       "      <th></th>\n",
       "    </tr>\n",
       "  </thead>\n",
       "  <tbody>\n",
       "    <tr>\n",
       "      <th>2017-06-06</th>\n",
       "      <td>164.949997</td>\n",
       "      <td>166.820007</td>\n",
       "      <td>164.509995</td>\n",
       "      <td>165.169998</td>\n",
       "      <td>165.169998</td>\n",
       "      <td>4382100</td>\n",
       "    </tr>\n",
       "    <tr>\n",
       "      <th>2017-06-07</th>\n",
       "      <td>165.600006</td>\n",
       "      <td>166.399994</td>\n",
       "      <td>164.410004</td>\n",
       "      <td>165.610001</td>\n",
       "      <td>165.610001</td>\n",
       "      <td>3353100</td>\n",
       "    </tr>\n",
       "    <tr>\n",
       "      <th>2017-06-08</th>\n",
       "      <td>166.119995</td>\n",
       "      <td>166.869995</td>\n",
       "      <td>164.839996</td>\n",
       "      <td>165.880005</td>\n",
       "      <td>165.880005</td>\n",
       "      <td>3719100</td>\n",
       "    </tr>\n",
       "    <tr>\n",
       "      <th>2017-06-09</th>\n",
       "      <td>166.270004</td>\n",
       "      <td>166.270004</td>\n",
       "      <td>154.500000</td>\n",
       "      <td>158.029999</td>\n",
       "      <td>158.029999</td>\n",
       "      <td>10292000</td>\n",
       "    </tr>\n",
       "    <tr>\n",
       "      <th>2017-06-12</th>\n",
       "      <td>155.300003</td>\n",
       "      <td>155.529999</td>\n",
       "      <td>148.309998</td>\n",
       "      <td>151.440002</td>\n",
       "      <td>151.440002</td>\n",
       "      <td>14114500</td>\n",
       "    </tr>\n",
       "  </tbody>\n",
       "</table>\n",
       "</div>"
      ],
      "text/plain": [
       "                  Open        High         Low       Close   Adj Close  \\\n",
       "Date                                                                     \n",
       "2017-06-06  164.949997  166.820007  164.509995  165.169998  165.169998   \n",
       "2017-06-07  165.600006  166.399994  164.410004  165.610001  165.610001   \n",
       "2017-06-08  166.119995  166.869995  164.839996  165.880005  165.880005   \n",
       "2017-06-09  166.270004  166.270004  154.500000  158.029999  158.029999   \n",
       "2017-06-12  155.300003  155.529999  148.309998  151.440002  151.440002   \n",
       "\n",
       "              Volume  \n",
       "Date                  \n",
       "2017-06-06   4382100  \n",
       "2017-06-07   3353100  \n",
       "2017-06-08   3719100  \n",
       "2017-06-09  10292000  \n",
       "2017-06-12  14114500  "
      ]
     },
     "execution_count": 43,
     "metadata": {},
     "output_type": "execute_result"
    }
   ],
   "source": [
    "# Read NFLX_stock.csv into Pandas DataFrame and set the index column as 'Date'\n",
    "close_df = pd.read_csv(Path('Resources/NFLX_stock.csv'), \n",
    "                       index_col = 'Date', \n",
    "                       infer_datetime_format = True, \n",
    "                       parse_dates = True)\n",
    "\n",
    "# Display the first five rows of close_df\n",
    "close_df.head()"
   ]
  },
  {
   "cell_type": "code",
   "execution_count": 44,
   "id": "e005b6a8-8ddd-492f-841f-c167ae663858",
   "metadata": {},
   "outputs": [
    {
     "data": {
      "text/html": [
       "<div>\n",
       "<style scoped>\n",
       "    .dataframe tbody tr th:only-of-type {\n",
       "        vertical-align: middle;\n",
       "    }\n",
       "\n",
       "    .dataframe tbody tr th {\n",
       "        vertical-align: top;\n",
       "    }\n",
       "\n",
       "    .dataframe thead th {\n",
       "        text-align: right;\n",
       "    }\n",
       "</style>\n",
       "<table border=\"1\" class=\"dataframe\">\n",
       "  <thead>\n",
       "    <tr style=\"text-align: right;\">\n",
       "      <th></th>\n",
       "      <th>Close</th>\n",
       "    </tr>\n",
       "    <tr>\n",
       "      <th>Date</th>\n",
       "      <th></th>\n",
       "    </tr>\n",
       "  </thead>\n",
       "  <tbody>\n",
       "    <tr>\n",
       "      <th>2017-06-06</th>\n",
       "      <td>165.169998</td>\n",
       "    </tr>\n",
       "    <tr>\n",
       "      <th>2017-06-07</th>\n",
       "      <td>165.610001</td>\n",
       "    </tr>\n",
       "    <tr>\n",
       "      <th>2017-06-08</th>\n",
       "      <td>165.880005</td>\n",
       "    </tr>\n",
       "    <tr>\n",
       "      <th>2017-06-09</th>\n",
       "      <td>158.029999</td>\n",
       "    </tr>\n",
       "    <tr>\n",
       "      <th>2017-06-12</th>\n",
       "      <td>151.440002</td>\n",
       "    </tr>\n",
       "  </tbody>\n",
       "</table>\n",
       "</div>"
      ],
      "text/plain": [
       "                 Close\n",
       "Date                  \n",
       "2017-06-06  165.169998\n",
       "2017-06-07  165.610001\n",
       "2017-06-08  165.880005\n",
       "2017-06-09  158.029999\n",
       "2017-06-12  151.440002"
      ]
     },
     "execution_count": 44,
     "metadata": {},
     "output_type": "execute_result"
    }
   ],
   "source": [
    "# Use loc function to only read 'Close' time series data\n",
    "close_df = close_df.loc[:, 'Close']\n",
    "\n",
    "close_df.head()"
   ]
  },
  {
   "cell_type": "code",
   "execution_count": null,
   "id": "157106e1-2ad2-4774-9228-bb228263f3d4",
   "metadata": {},
   "outputs": [],
   "source": [
    "# Convert from Series to DataFrame\n",
    "close_df = close_df.to_frame()\n",
    "\n",
    "# Display top 5 rows\n",
    "close_df.head()"
   ]
  },
  {
   "cell_type": "code",
   "execution_count": 45,
   "id": "7b6fc54b-7a57-49dc-acba-eb85ea92724c",
   "metadata": {},
   "outputs": [
    {
     "data": {},
     "metadata": {},
     "output_type": "display_data"
    },
    {
     "data": {
      "application/vnd.holoviews_exec.v0+json": "",
      "text/html": [
       "<div id='1798'>\n",
       "\n",
       "\n",
       "\n",
       "\n",
       "\n",
       "  <div class=\"bk-root\" id=\"1ca0293e-b073-49ef-8a5b-bef7def3e8ca\" data-root-id=\"1798\"></div>\n",
       "</div>\n",
       "<script type=\"application/javascript\">(function(root) {\n",
       "  function embed_document(root) {\n",
       "    var docs_json = {\"27a69ca5-1bda-4f8e-a834-edf1423d82a0\":{\"defs\":[{\"extends\":null,\"module\":null,\"name\":\"ReactiveHTML1\",\"overrides\":[],\"properties\":[]},{\"extends\":null,\"module\":null,\"name\":\"FlexBox1\",\"overrides\":[],\"properties\":[{\"default\":\"flex-start\",\"kind\":null,\"name\":\"align_content\"},{\"default\":\"flex-start\",\"kind\":null,\"name\":\"align_items\"},{\"default\":\"row\",\"kind\":null,\"name\":\"flex_direction\"},{\"default\":\"wrap\",\"kind\":null,\"name\":\"flex_wrap\"},{\"default\":\"flex-start\",\"kind\":null,\"name\":\"justify_content\"}]},{\"extends\":null,\"module\":null,\"name\":\"TemplateActions1\",\"overrides\":[],\"properties\":[{\"default\":0,\"kind\":null,\"name\":\"open_modal\"},{\"default\":0,\"kind\":null,\"name\":\"close_modal\"}]},{\"extends\":null,\"module\":null,\"name\":\"MaterialTemplateActions1\",\"overrides\":[],\"properties\":[{\"default\":0,\"kind\":null,\"name\":\"open_modal\"},{\"default\":0,\"kind\":null,\"name\":\"close_modal\"}]}],\"roots\":{\"references\":[{\"attributes\":{},\"id\":\"1820\",\"type\":\"SaveTool\"},{\"attributes\":{},\"id\":\"1855\",\"type\":\"UnionRenderers\"},{\"attributes\":{},\"id\":\"1869\",\"type\":\"YearsTicker\"},{\"attributes\":{\"below\":[{\"id\":\"1812\"}],\"center\":[{\"id\":\"1815\"},{\"id\":\"1819\"}],\"height\":300,\"left\":[{\"id\":\"1816\"}],\"margin\":[5,5,5,5],\"min_border_bottom\":10,\"min_border_left\":10,\"min_border_right\":10,\"min_border_top\":10,\"renderers\":[{\"id\":\"1839\"}],\"sizing_mode\":\"fixed\",\"title\":{\"id\":\"1804\"},\"toolbar\":{\"id\":\"1826\"},\"width\":700,\"x_range\":{\"id\":\"1800\"},\"x_scale\":{\"id\":\"1808\"},\"y_range\":{\"id\":\"1801\"},\"y_scale\":{\"id\":\"1810\"}},\"id\":\"1803\",\"subtype\":\"Figure\",\"type\":\"Plot\"},{\"attributes\":{},\"id\":\"1821\",\"type\":\"PanTool\"},{\"attributes\":{\"data\":{\"Close\":{\"__ndarray__\":\"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\",\"dtype\":\"float64\",\"order\":\"little\",\"shape\":[252]},\"Date\":{\"__ndarray__\":\"AACAwb2AdkIAAEAnEIF2QgAAAI1igXZCAABAvlmCdkIAAAAkrIJ2QgAAwIn+gnZCAACA71CDdkIAAEBVo4N2QgAAgIaahHZCAABA7OyEdkIAAABSP4V2QgAAwLeRhXZCAACAHeSFdkIAAIC0LYd2QgAAQBqAh3ZCAAAAgNKHdkIAAMDlJIh2QgAAABcciXZCAADAfG6JdkIAAIDiwIl2QgAAQEgTinZCAAAArmWKdkIAAEDfXIt2QgAAAEWvi3ZCAADAqgGMdkIAAIAQVIx2QgAAQHamjHZCAACAp52NdkIAAEAN8I12QgAAAHNCjnZCAADA2JSOdkIAAIA+5452QgAAgNUwkHZCAABAO4OQdkIAAACh1ZB2QgAAwAYokXZCAAAAOB+SdkIAAMCdcZJ2QgAAgAPEknZCAABAaRaTdkIAAADPaJN2QgAAQABglHZCAAAAZrKUdkIAAMDLBJV2QgAAgDFXlXZCAABAl6mVdkIAAIDIoJZ2QgAAQC7zlnZCAAAAlEWXdkIAAMD5l5d2QgAAgF/ql3ZCAADAkOGYdkIAAID2M5l2QgAAQFyGmXZCAAAAwtiZdkIAAMAnK5p2QgAAAFkim3ZCAADAvnSbdkIAAIAkx5t2QgAAQIoZnHZCAAAA8GucdkIAAEAhY512QgAAAIe1nXZCAADA7AeedkIAAIBSWp52QgAAQLisnnZCAACA6aOfdkIAAEBP9p92QgAAALVIoHZCAADAGpugdkIAAICA7aB2QgAAwLHkoXZCAACAFzeidkIAAEB9iaJ2QgAAAOPbonZCAAAAeiWkdkIAAMDfd6R2QgAAgEXKpHZCAABAqxyldkIAAAARb6V2QgAAQEJmpnZCAAAAqLimdkIAAMANC6d2QgAAgHNdp3ZCAABA2a+ndkIAAIAKp6h2QgAAQHD5qHZCAAAA1kupdkIAAMA7nql2QgAAgKHwqXZCAADA0ueqdkIAAIA4Oqt2QgAAQJ6Mq3ZCAAAABN+rdkIAAMBpMax2QgAAAJsorXZCAADAAHutdkIAAIBmza12QgAAQMwfrnZCAAAAMnKudkIAAADJu692QgAAwC4OsHZCAACAlGCwdkIAAED6srB2QgAAgCuqsXZCAABAkfyxdkIAAAD3TrJ2QgAAwFyhsnZCAACAwvOydkIAAMDz6rN2QgAAgFk9tHZCAABAv4+0dkIAAAAl4rR2QgAAwIo0tXZCAAAAvCu2dkIAAMAhfrZ2QgAAgIfQtnZCAABA7SK3dkIAAABTdbd2QgAAQIRsuHZCAAAA6r64dkIAAMBPEbl2QgAAgLVjuXZCAABAG7a5dkIAAIBMrbp2QgAAQLL/unZCAAAAGFK7dkIAAIDj9rt2QgAAwBTuvHZCAACAekC9dkIAAEDgkr12QgAAAEblvXZCAADAqze+dkIAAADdLr92QgAAwEKBv3ZCAACAqNO/dkIAAEAOJsB2QgAAAHR4wHZCAABApW/BdkIAAAALwsF2QgAAwHAUwnZCAACA1mbCdkIAAEA8ucJ2QgAAgG2ww3ZCAABA0wLEdkIAAAA5VcR2QgAAwJ6nxHZCAACABPrEdkIAAMA18cV2QgAAgJtDxnZCAABAAZbGdkIAAABn6MZ2QgAAwMw6x3ZCAAAA/jHIdkIAAMBjhMh2QgAAgMnWyHZCAABALynJdkIAAACVe8l2QgAAQMZyynZCAAAALMXKdkIAAMCRF8t2QgAAgPdpy3ZCAABAXbzLdkIAAICOs8x2QgAAQPQFzXZCAAAAWljNdkIAAMC/qs12QgAAgCX9zXZCAACAvEbPdkIAAEAimc92QgAAAIjrz3ZCAADA7T3QdkIAAAAfNdF2QgAAwISH0XZCAACA6tnRdkIAAEBQLNJ2QgAAALZ+0nZCAABA53XTdkIAAABNyNN2QgAAwLIa1HZCAACAGG3UdkIAAEB+v9R2QgAAgK+21XZCAABAFQnWdkIAAAB7W9Z2QgAAwOCt1nZCAACARgDXdkIAAMB399d2QgAAgN1J2HZCAABAQ5zYdkIAAACp7th2QgAAwA5B2XZCAAAAQDjadkIAAMClitp2QgAAgAvd2nZCAABAcS/bdkIAAADXgdt2QgAAQAh53HZCAAAAbsvcdkIAAMDTHd12QgAAgDlw3XZCAABAn8LddkIAAIDQud52QgAAQDYM33ZCAAAAnF7fdkIAAMABsd92QgAAgGcD4HZCAADAmPrgdkIAAID+TOF2QgAAQGSf4XZCAAAAyvHhdkIAAMAvROJ2QgAAAGE743ZCAADAxo3jdkIAAIAs4ON2QgAAQJIy5HZCAAAA+ITkdkIAAEApfOV2QgAAAI/O5XZCAADA9CDmdkIAAIBac+Z2QgAAQMDF5nZCAACA8bzndkIAAEBXD+h2QgAAAL1h6HZCAADAIrTodkIAAICIBul2QgAAwLn96XZCAACAH1DqdkIAAECFoup2QgAAwFBH63ZCAAAAgj7sdkIAAMDnkOx2QgAAgE3j7HZCAABAszXtdkIAAAAZiO12QgAAQEp/7nZCAAAAsNHudkIAAMAVJO92QgAAgHt273ZCAABA4cjvdkIAAIASwPB2QgAAQHgS8XZCAAAA3mTxdkIAAMBDt/F2QgAAgKkJ8nZCAADA2gDzdkIAAIBAU/N2QgAAAAz483ZCAADAcUr0dkIAAACjQfV2QgAAwAiU9XZC\",\"dtype\":\"float64\",\"order\":\"little\",\"shape\":[252]}},\"selected\":{\"id\":\"1834\"},\"selection_policy\":{\"id\":\"1855\"}},\"id\":\"1833\",\"type\":\"ColumnDataSource\"},{\"attributes\":{},\"id\":\"1822\",\"type\":\"WheelZoomTool\"},{\"attributes\":{},\"id\":\"1834\",\"type\":\"Selection\"},{\"attributes\":{\"children\":[{\"id\":\"1799\"},{\"id\":\"1803\"},{\"id\":\"1892\"}],\"margin\":[0,0,0,0],\"name\":\"Row02688\",\"tags\":[\"embedded\"]},\"id\":\"1798\",\"type\":\"Row\"},{\"attributes\":{\"tools\":[{\"id\":\"1802\"},{\"id\":\"1820\"},{\"id\":\"1821\"},{\"id\":\"1822\"},{\"id\":\"1823\"},{\"id\":\"1824\"}]},\"id\":\"1826\",\"type\":\"Toolbar\"},{\"attributes\":{},\"id\":\"1810\",\"type\":\"LinearScale\"},{\"attributes\":{\"overlay\":{\"id\":\"1825\"}},\"id\":\"1823\",\"type\":\"BoxZoomTool\"},{\"attributes\":{\"coordinates\":null,\"group\":null,\"text\":\"NFLX Closing Prices: 2019\",\"text_color\":\"black\",\"text_font_size\":\"12pt\"},\"id\":\"1804\",\"type\":\"Title\"},{\"attributes\":{\"end\":1577750400000.0,\"reset_end\":1577750400000.0,\"reset_start\":1546387200000.0,\"start\":1546387200000.0,\"tags\":[[[\"Date\",\"Date\",null]]]},\"id\":\"1800\",\"type\":\"Range1d\"},{\"attributes\":{\"mantissas\":[1,2,5],\"max_interval\":500.0,\"num_minor_ticks\":0},\"id\":\"1858\",\"type\":\"AdaptiveTicker\"},{\"attributes\":{\"coordinates\":null,\"data_source\":{\"id\":\"1833\"},\"glyph\":{\"id\":\"1836\"},\"group\":null,\"hover_glyph\":null,\"muted_glyph\":{\"id\":\"1838\"},\"nonselection_glyph\":{\"id\":\"1837\"},\"selection_glyph\":{\"id\":\"1841\"},\"view\":{\"id\":\"1840\"}},\"id\":\"1839\",\"type\":\"GlyphRenderer\"},{\"attributes\":{},\"id\":\"1824\",\"type\":\"ResetTool\"},{\"attributes\":{\"base\":24,\"mantissas\":[1,2,4,6,8,12],\"max_interval\":43200000.0,\"min_interval\":3600000.0,\"num_minor_ticks\":0},\"id\":\"1860\",\"type\":\"AdaptiveTicker\"},{\"attributes\":{\"bottom_units\":\"screen\",\"coordinates\":null,\"fill_alpha\":0.5,\"fill_color\":\"lightgrey\",\"group\":null,\"left_units\":\"screen\",\"level\":\"overlay\",\"line_alpha\":1.0,\"line_color\":\"black\",\"line_dash\":[4,4],\"line_width\":2,\"right_units\":\"screen\",\"syncable\":false,\"top_units\":\"screen\"},\"id\":\"1825\",\"type\":\"BoxAnnotation\"},{\"attributes\":{\"base\":60,\"mantissas\":[1,2,5,10,15,20,30],\"max_interval\":1800000.0,\"min_interval\":1000.0,\"num_minor_ticks\":0},\"id\":\"1859\",\"type\":\"AdaptiveTicker\"},{\"attributes\":{},\"id\":\"1817\",\"type\":\"BasicTicker\"},{\"attributes\":{\"axis_label\":\"Date\",\"coordinates\":null,\"formatter\":{\"id\":\"1843\"},\"group\":null,\"major_label_policy\":{\"id\":\"1844\"},\"ticker\":{\"id\":\"1813\"}},\"id\":\"1812\",\"type\":\"DatetimeAxis\"},{\"attributes\":{},\"id\":\"1808\",\"type\":\"LinearScale\"},{\"attributes\":{\"days\":[1,2,3,4,5,6,7,8,9,10,11,12,13,14,15,16,17,18,19,20,21,22,23,24,25,26,27,28,29,30,31]},\"id\":\"1861\",\"type\":\"DaysTicker\"},{\"attributes\":{\"num_minor_ticks\":5,\"tickers\":[{\"id\":\"1858\"},{\"id\":\"1859\"},{\"id\":\"1860\"},{\"id\":\"1861\"},{\"id\":\"1862\"},{\"id\":\"1863\"},{\"id\":\"1864\"},{\"id\":\"1865\"},{\"id\":\"1866\"},{\"id\":\"1867\"},{\"id\":\"1868\"},{\"id\":\"1869\"}]},\"id\":\"1813\",\"type\":\"DatetimeTicker\"},{\"attributes\":{\"margin\":[5,5,5,5],\"name\":\"HSpacer02692\",\"sizing_mode\":\"stretch_width\"},\"id\":\"1799\",\"type\":\"Spacer\"},{\"attributes\":{\"days\":[1,4,7,10,13,16,19,22,25,28]},\"id\":\"1862\",\"type\":\"DaysTicker\"},{\"attributes\":{\"axis\":{\"id\":\"1812\"},\"coordinates\":null,\"grid_line_color\":null,\"group\":null,\"ticker\":null},\"id\":\"1815\",\"type\":\"Grid\"},{\"attributes\":{},\"id\":\"1847\",\"type\":\"AllLabels\"},{\"attributes\":{\"line_color\":\"#30a2da\",\"line_width\":2,\"x\":{\"field\":\"Date\"},\"y\":{\"field\":\"Close\"}},\"id\":\"1836\",\"type\":\"Line\"},{\"attributes\":{\"days\":[1,8,15,22]},\"id\":\"1863\",\"type\":\"DaysTicker\"},{\"attributes\":{\"months\":[0,6]},\"id\":\"1868\",\"type\":\"MonthsTicker\"},{\"attributes\":{\"axis\":{\"id\":\"1816\"},\"coordinates\":null,\"dimension\":1,\"grid_line_color\":null,\"group\":null,\"ticker\":null},\"id\":\"1819\",\"type\":\"Grid\"},{\"attributes\":{\"line_color\":\"#30a2da\",\"line_width\":2,\"x\":{\"field\":\"Date\"},\"y\":{\"field\":\"Close\"}},\"id\":\"1841\",\"type\":\"Line\"},{\"attributes\":{\"axis_label\":\"Close\",\"coordinates\":null,\"formatter\":{\"id\":\"1846\"},\"group\":null,\"major_label_policy\":{\"id\":\"1847\"},\"ticker\":{\"id\":\"1817\"}},\"id\":\"1816\",\"type\":\"LinearAxis\"},{\"attributes\":{\"days\":[1,15]},\"id\":\"1864\",\"type\":\"DaysTicker\"},{\"attributes\":{},\"id\":\"1846\",\"type\":\"BasicTickFormatter\"},{\"attributes\":{},\"id\":\"1844\",\"type\":\"AllLabels\"},{\"attributes\":{\"months\":[0,1,2,3,4,5,6,7,8,9,10,11]},\"id\":\"1865\",\"type\":\"MonthsTicker\"},{\"attributes\":{\"months\":[0,2,4,6,8,10]},\"id\":\"1866\",\"type\":\"MonthsTicker\"},{\"attributes\":{\"end\":398.07399929999997,\"reset_end\":398.07399929999997,\"reset_start\":241.54599570000002,\"start\":241.54599570000002,\"tags\":[[[\"Close\",\"Close\",null]]]},\"id\":\"1801\",\"type\":\"Range1d\"},{\"attributes\":{\"line_alpha\":0.1,\"line_color\":\"#30a2da\",\"line_width\":2,\"x\":{\"field\":\"Date\"},\"y\":{\"field\":\"Close\"}},\"id\":\"1837\",\"type\":\"Line\"},{\"attributes\":{\"line_alpha\":0.2,\"line_color\":\"#30a2da\",\"line_width\":2,\"x\":{\"field\":\"Date\"},\"y\":{\"field\":\"Close\"}},\"id\":\"1838\",\"type\":\"Line\"},{\"attributes\":{\"margin\":[5,5,5,5],\"name\":\"HSpacer02693\",\"sizing_mode\":\"stretch_width\"},\"id\":\"1892\",\"type\":\"Spacer\"},{\"attributes\":{\"callback\":null,\"formatters\":{\"@{Date}\":\"datetime\"},\"renderers\":[{\"id\":\"1839\"}],\"tags\":[\"hv_created\"],\"tooltips\":[[\"Date\",\"@{Date}{%F %T}\"],[\"Close\",\"@{Close}\"]]},\"id\":\"1802\",\"type\":\"HoverTool\"},{\"attributes\":{\"months\":[0,4,8]},\"id\":\"1867\",\"type\":\"MonthsTicker\"},{\"attributes\":{},\"id\":\"1843\",\"type\":\"DatetimeTickFormatter\"},{\"attributes\":{\"source\":{\"id\":\"1833\"}},\"id\":\"1840\",\"type\":\"CDSView\"}],\"root_ids\":[\"1798\"]},\"title\":\"Bokeh Application\",\"version\":\"2.4.2\"}};\n",
       "    var render_items = [{\"docid\":\"27a69ca5-1bda-4f8e-a834-edf1423d82a0\",\"root_ids\":[\"1798\"],\"roots\":{\"1798\":\"1ca0293e-b073-49ef-8a5b-bef7def3e8ca\"}}];\n",
       "    root.Bokeh.embed.embed_items_notebook(docs_json, render_items);\n",
       "  }\n",
       "  if (root.Bokeh !== undefined && root.Bokeh.Panel !== undefined) {\n",
       "    embed_document(root);\n",
       "  } else {\n",
       "    var attempts = 0;\n",
       "    var timer = setInterval(function(root) {\n",
       "      if (root.Bokeh !== undefined && root.Bokeh.Panel !== undefined) {\n",
       "        clearInterval(timer);\n",
       "        embed_document(root);\n",
       "      } else if (document.readyState == \"complete\") {\n",
       "        attempts++;\n",
       "        if (attempts > 200) {\n",
       "          clearInterval(timer);\n",
       "          console.log(\"Bokeh: ERROR: Unable to run BokehJS code because BokehJS library is missing\");\n",
       "        }\n",
       "      }\n",
       "    }, 25, root)\n",
       "  }\n",
       "})(window);</script>"
      ],
      "text/plain": [
       ":Curve   [Date]   (Close)"
      ]
     },
     "execution_count": 45,
     "metadata": {
      "application/vnd.holoviews_exec.v0+json": {
       "id": "1798"
      }
     },
     "output_type": "execute_result"
    }
   ],
   "source": [
    "# Use hvplot and the loc function to show closing prices in 2019\n",
    "close_df.loc['2019'].hvplot(title = 'NFLX Closing Prices: 2019')"
   ]
  },
  {
   "cell_type": "markdown",
   "id": "1c3bbf1e-f774-45df-88e5-7bf50bf2943b",
   "metadata": {},
   "source": [
    "## Stop to think!\n",
    "If subscriber count was growing in 2019, but dropped in 2020, is the trend we are seeing in our closing price data expected? DisneyPlus became available on November 2019, could that have affected stock price?"
   ]
  },
  {
   "cell_type": "code",
   "execution_count": 47,
   "id": "40f4c534-2598-4be2-8f3e-ecb825d3ccdb",
   "metadata": {},
   "outputs": [
    {
     "data": {
      "text/html": [
       "<div>\n",
       "<style scoped>\n",
       "    .dataframe tbody tr th:only-of-type {\n",
       "        vertical-align: middle;\n",
       "    }\n",
       "\n",
       "    .dataframe tbody tr th {\n",
       "        vertical-align: top;\n",
       "    }\n",
       "\n",
       "    .dataframe thead th {\n",
       "        text-align: right;\n",
       "    }\n",
       "</style>\n",
       "<table border=\"1\" class=\"dataframe\">\n",
       "  <thead>\n",
       "    <tr style=\"text-align: right;\">\n",
       "      <th></th>\n",
       "      <th></th>\n",
       "      <th>Close</th>\n",
       "      <th>Subscribers</th>\n",
       "    </tr>\n",
       "    <tr>\n",
       "      <th>Date</th>\n",
       "      <th>Date</th>\n",
       "      <th></th>\n",
       "      <th></th>\n",
       "    </tr>\n",
       "  </thead>\n",
       "  <tbody>\n",
       "    <tr>\n",
       "      <th rowspan=\"4\" valign=\"top\">2018</th>\n",
       "      <th>1</th>\n",
       "      <td>272.217869</td>\n",
       "      <td>29725500.0</td>\n",
       "    </tr>\n",
       "    <tr>\n",
       "      <th>2</th>\n",
       "      <td>340.896877</td>\n",
       "      <td>31088500.0</td>\n",
       "    </tr>\n",
       "    <tr>\n",
       "      <th>3</th>\n",
       "      <td>362.951427</td>\n",
       "      <td>32605500.0</td>\n",
       "    </tr>\n",
       "    <tr>\n",
       "      <th>4</th>\n",
       "      <td>299.257778</td>\n",
       "      <td>34814750.0</td>\n",
       "    </tr>\n",
       "    <tr>\n",
       "      <th>2019</th>\n",
       "      <th>1</th>\n",
       "      <td>346.668853</td>\n",
       "      <td>37215750.0</td>\n",
       "    </tr>\n",
       "  </tbody>\n",
       "</table>\n",
       "</div>"
      ],
      "text/plain": [
       "                Close  Subscribers\n",
       "Date Date                         \n",
       "2018 1     272.217869   29725500.0\n",
       "     2     340.896877   31088500.0\n",
       "     3     362.951427   32605500.0\n",
       "     4     299.257778   34814750.0\n",
       "2019 1     346.668853   37215750.0"
      ]
     },
     "execution_count": 47,
     "metadata": {},
     "output_type": "execute_result"
    }
   ],
   "source": [
    "# Concat close_df and subs_df\n",
    "nflx_df = pd.concat([close_df, subs_df])\n",
    "\n",
    "# Find the average closing price and number of subscribers group by year and quarter\n",
    "qtrly_nflx = nflx_df.groupby(by = [nflx_df.index.year, nflx_df.index.quarter]).mean().dropna()\n",
    "\n",
    "# View first five rows of qtrly_nflx\n",
    "qtrly_nflx.head()"
   ]
  },
  {
   "cell_type": "code",
   "execution_count": null,
   "id": "2a6cf2cd-a7b8-4fe8-a61a-8299bee9b885",
   "metadata": {},
   "outputs": [],
   "source": [
    "# Flatten multiIndex and rename 'Date' column as 'Quarter\n",
    "qtrly_nflx.reset_index(level = 1, inplace = True)\n",
    "qtrly_nflx = qtrly_nflx.rename(columns = {'Date' : 'Quarter'})\n",
    "\n",
    "# Display last five rows of qtrly_nflx\n",
    "qtrly_nflx.tail()"
   ]
  },
  {
   "cell_type": "code",
   "execution_count": 14,
   "id": "5bba2fa9-5e05-4f68-adb8-e147fb6af0ea",
   "metadata": {},
   "outputs": [],
   "source": [
    "# Create column for Daily Returns and use the pct_change function to calculate\n",
    "qtrly_nflx['Daily Returns'] = qtrly_nflx['Close'].pct_change()"
   ]
  },
  {
   "cell_type": "code",
   "execution_count": 15,
   "id": "4efcd6dd-fa1a-4823-9fd4-d2ef99b3a5da",
   "metadata": {},
   "outputs": [
    {
     "data": {
      "text/html": [
       "<div>\n",
       "<style scoped>\n",
       "    .dataframe tbody tr th:only-of-type {\n",
       "        vertical-align: middle;\n",
       "    }\n",
       "\n",
       "    .dataframe tbody tr th {\n",
       "        vertical-align: top;\n",
       "    }\n",
       "\n",
       "    .dataframe thead th {\n",
       "        text-align: right;\n",
       "    }\n",
       "</style>\n",
       "<table border=\"1\" class=\"dataframe\">\n",
       "  <thead>\n",
       "    <tr style=\"text-align: right;\">\n",
       "      <th></th>\n",
       "      <th>Subscribers</th>\n",
       "      <th>Daily Returns</th>\n",
       "    </tr>\n",
       "  </thead>\n",
       "  <tbody>\n",
       "    <tr>\n",
       "      <th>Subscribers</th>\n",
       "      <td>1.000000</td>\n",
       "      <td>0.151713</td>\n",
       "    </tr>\n",
       "    <tr>\n",
       "      <th>Daily Returns</th>\n",
       "      <td>0.151713</td>\n",
       "      <td>1.000000</td>\n",
       "    </tr>\n",
       "  </tbody>\n",
       "</table>\n",
       "</div>"
      ],
      "text/plain": [
       "               Subscribers  Daily Returns\n",
       "Subscribers       1.000000       0.151713\n",
       "Daily Returns     0.151713       1.000000"
      ]
     },
     "execution_count": 16,
     "metadata": {},
     "output_type": "execute_result"
    }
   ],
   "source": [
    "# Using Pandas corr function, look for any correlations between average closing prices and number of subscribers\n",
    "qtrly_nflx[['Subscribers', 'Daily Returns']].corr()"
   ]
  },
  {
   "cell_type": "code",
   "execution_count": null,
   "id": "9aaa90ef-7e71-4986-8f0e-fae6b1abe186",
   "metadata": {},
   "outputs": [],
   "source": []
  }
 ],
 "metadata": {
  "kernelspec": {
   "display_name": "Python 3 (ipykernel)",
   "language": "python",
   "name": "python3"
  },
  "language_info": {
   "codemirror_mode": {
    "name": "ipython",
    "version": 3
   },
   "file_extension": ".py",
   "mimetype": "text/x-python",
   "name": "python",
   "nbconvert_exporter": "python",
   "pygments_lexer": "ipython3",
   "version": "3.7.11"
  }
 },
 "nbformat": 4,
 "nbformat_minor": 5
}
